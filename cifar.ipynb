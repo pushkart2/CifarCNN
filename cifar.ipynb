{
 "cells": [
  {
   "cell_type": "markdown",
   "metadata": {},
   "source": [
    "Importing!"
   ]
  },
  {
   "cell_type": "code",
   "execution_count": 2,
   "metadata": {},
   "outputs": [
    {
     "name": "stderr",
     "output_type": "stream",
     "text": [
      "Using TensorFlow backend.\n"
     ]
    }
   ],
   "source": [
    "import numpy as np\n",
    "import pandas as pd\n",
    "import matplotlib.pyplot as plt\n",
    "%matplotlib inline\n",
    "#from keras.datasets import mnist\n",
    "from keras import *\n",
    "from keras.models import Sequential\n",
    "from keras.layers import Dense, Dropout, Activation, Flatten\n",
    "from keras.optimizers import Adam\n",
    "from keras.layers.normalization import BatchNormalization\n",
    "from keras.utils import np_utils\n",
    "from keras.layers import Conv2D, MaxPooling2D, ZeroPadding2D, GlobalAveragePooling2D\n",
    "from keras.layers.advanced_activations import LeakyReLU \n",
    "from keras.preprocessing.image import ImageDataGenerator\n",
    "from sklearn.model_selection import train_test_split\n",
    "import glob\n",
    "from skimage import io\n",
    "import os\n",
    "import scipy.misc\n",
    "from scipy.misc import imread, imresize\n",
    "from keras import regularizers\n",
    "import csv\n",
    "from keras.datasets import cifar10\n",
    "from keras.applications import ResNet50\n",
    "from keras.applications.resnet50 import preprocess_input"
   ]
  },
  {
   "cell_type": "markdown",
   "metadata": {},
   "source": [
    "Extracting the data"
   ]
  },
  {
   "cell_type": "code",
   "execution_count": 3,
   "metadata": {
    "collapsed": true
   },
   "outputs": [],
   "source": [
    "(X_train,y_train),(X_test,y_test) = cifar10.load_data()"
   ]
  },
  {
   "cell_type": "code",
   "execution_count": 4,
   "metadata": {},
   "outputs": [
    {
     "name": "stdout",
     "output_type": "stream",
     "text": [
      "(50000, 32, 32, 3)\n",
      "(10000, 32, 32, 3)\n"
     ]
    }
   ],
   "source": [
    "X_train = X_train.astype('float32')\n",
    "X_test = X_test.astype('float32')\n",
    "print(X_train.shape)\n",
    "print(X_test.shape)"
   ]
  },
  {
   "cell_type": "code",
   "execution_count": 5,
   "metadata": {},
   "outputs": [
    {
     "name": "stdout",
     "output_type": "stream",
     "text": [
      "(50000, 1)\n",
      "(10000, 1)\n"
     ]
    }
   ],
   "source": [
    "print(y_train.shape)\n",
    "print(y_test.shape)"
   ]
  },
  {
   "cell_type": "code",
   "execution_count": 6,
   "metadata": {},
   "outputs": [
    {
     "data": {
      "text/plain": [
       "Text(0.5,1,'Class [1]')"
      ]
     },
     "execution_count": 6,
     "metadata": {},
     "output_type": "execute_result"
    },
    {
     "data": {
      "image/png": "[encoded data removed]",
      "text/plain": [
       "<matplotlib.figure.Figure at 0x17082d8b978>"
      ]
     },
     "metadata": {},
     "output_type": "display_data"
    }
   ],
   "source": [
    "plt.imshow(X_train[5])\n",
    "plt.title('Class '+ str(y_train[5]))"
   ]
  },
  {
   "cell_type": "code",
   "execution_count": 7,
   "metadata": {
    "collapsed": true
   },
   "outputs": [],
   "source": [
    "number_of_classes = 10\n",
    "Y_train = np_utils.to_categorical(y_train, number_of_classes)\n",
    "Y_test = np_utils.to_categorical(y_test, number_of_classes)\n"
   ]
  },
  {
   "cell_type": "markdown",
   "metadata": {},
   "source": [
    "Generating Image data"
   ]
  },
  {
   "cell_type": "code",
   "execution_count": 8,
   "metadata": {
    "collapsed": true
   },
   "outputs": [],
   "source": [
    "gen = ImageDataGenerator(width_shift_range=.2, \n",
    "                             height_shift_range=.2,\n",
    "                         shear_range=0.2, zoom_range=0.2)\n",
    "\n",
    "test_gen = ImageDataGenerator()\n",
    "train_generator = gen.flow(X_train, Y_train, batch_size=32)\n",
    "test_generator = test_gen.flow(X_test, Y_test, batch_size=32)\n"
   ]
  },
  {
   "cell_type": "markdown",
   "metadata": {},
   "source": [
    "Model description."
   ]
  },
  {
   "cell_type": "code",
   "execution_count": 9,
   "metadata": {},
   "outputs": [],
   "source": [
    "\n",
    "model = Sequential()\n",
    "\n",
    "model.add(Conv2D(32, (3, 3), input_shape=(32,32,3),padding = 'same'))\n",
    "model.add(Activation('relu'))\n",
    "model.add(Conv2D(32, (3, 3),padding = 'same'))\n",
    "model.add(Activation('relu'))\n",
    "model.add(MaxPooling2D(pool_size=(2,2)))\n",
    "\n",
    "model.add(Conv2D(64,(3,3 ),padding = 'same'))\n",
    "model.add(Activation('relu'))\n",
    "model.add(Conv2D(64, (3, 3),padding = 'same'))\n",
    "model.add(Activation('relu'))\n",
    "model.add(MaxPooling2D(pool_size=(2,2)))\n",
    "\n",
    "model.add(Conv2D(128,(3,3 ),padding = 'same'))\n",
    "model.add(Activation('relu'))\n",
    "model.add(Conv2D(128,(3,3 ),padding = 'same'))\n",
    "model.add(Activation('relu'))\n",
    "model.add(MaxPooling2D(pool_size=(2,2)))\n",
    "\n",
    "model.add(Flatten())\n",
    "\n",
    "# Fully connected layer\n",
    "\n",
    "model.add(Dense(512))\n",
    "model.add(BatchNormalization())\n",
    "model.add(Activation('relu'))\n",
    "model.add(Dropout(0.5))\n",
    "model.add(Dense(10))\n",
    "\n",
    "model.add(Activation('softmax'))"
   ]
  },
  {
   "cell_type": "code",
   "execution_count": 10,
   "metadata": {},
   "outputs": [
    {
     "name": "stdout",
     "output_type": "stream",
     "text": [
      "_________________________________________________________________\n",
      "Layer (type)                 Output Shape              Param #   \n",
      "=================================================================\n",
      "conv2d_1 (Conv2D)            (None, 32, 32, 32)        896       \n",
      "_________________________________________________________________\n",
      "activation_1 (Activation)    (None, 32, 32, 32)        0         \n",
      "_________________________________________________________________\n",
      "conv2d_2 (Conv2D)            (None, 32, 32, 32)        9248      \n",
      "_________________________________________________________________\n",
      "activation_2 (Activation)    (None, 32, 32, 32)        0         \n",
      "_________________________________________________________________\n",
      "max_pooling2d_1 (MaxPooling2 (None, 16, 16, 32)        0         \n",
      "_________________________________________________________________\n",
      "conv2d_3 (Conv2D)            (None, 16, 16, 64)        18496     \n",
      "_________________________________________________________________\n",
      "activation_3 (Activation)    (None, 16, 16, 64)        0         \n",
      "_________________________________________________________________\n",
      "conv2d_4 (Conv2D)            (None, 16, 16, 64)        36928     \n",
      "_________________________________________________________________\n",
      "activation_4 (Activation)    (None, 16, 16, 64)        0         \n",
      "_________________________________________________________________\n",
      "max_pooling2d_2 (MaxPooling2 (None, 8, 8, 64)          0         \n",
      "_________________________________________________________________\n",
      "conv2d_5 (Conv2D)            (None, 8, 8, 128)         73856     \n",
      "_________________________________________________________________\n",
      "activation_5 (Activation)    (None, 8, 8, 128)         0         \n",
      "_________________________________________________________________\n",
      "conv2d_6 (Conv2D)            (None, 8, 8, 128)         147584    \n",
      "_________________________________________________________________\n",
      "activation_6 (Activation)    (None, 8, 8, 128)         0         \n",
      "_________________________________________________________________\n",
      "max_pooling2d_3 (MaxPooling2 (None, 4, 4, 128)         0         \n",
      "_________________________________________________________________\n",
      "flatten_1 (Flatten)          (None, 2048)              0         \n",
      "_________________________________________________________________\n",
      "dense_1 (Dense)              (None, 512)               1049088   \n",
      "_________________________________________________________________\n",
      "batch_normalization_1 (Batch (None, 512)               2048      \n",
      "_________________________________________________________________\n",
      "activation_7 (Activation)    (None, 512)               0         \n",
      "_________________________________________________________________\n",
      "dropout_1 (Dropout)          (None, 512)               0         \n",
      "_________________________________________________________________\n",
      "dense_2 (Dense)              (None, 10)                5130      \n",
      "_________________________________________________________________\n",
      "activation_8 (Activation)    (None, 10)                0         \n",
      "=================================================================\n",
      "Total params: 1,343,274\n",
      "Trainable params: 1,342,250\n",
      "Non-trainable params: 1,024\n",
      "_________________________________________________________________\n"
     ]
    }
   ],
   "source": [
    "model.summary()"
   ]
  },
  {
   "cell_type": "code",
   "execution_count": 11,
   "metadata": {
    "collapsed": true
   },
   "outputs": [],
   "source": [
    "model.compile(loss='categorical_crossentropy', optimizer=Adam(),metrics=['accuracy'])"
   ]
  },
  {
   "cell_type": "code",
   "execution_count": 12,
   "metadata": {},
   "outputs": [
    {
     "name": "stdout",
     "output_type": "stream",
     "text": [
      "Epoch 1/200\n",
      "1563/1563 [==============================] - 29s 19ms/step - loss: 1.8011 - acc: 0.3594 - val_loss: 2.6558 - val_acc: 0.2929\n",
      "Epoch 2/200\n",
      "1563/1563 [==============================] - 26s 16ms/step - loss: 1.3202 - acc: 0.5265 - val_loss: 1.0441 - val_acc: 0.6333\n",
      "Epoch 3/200\n",
      "1563/1563 [==============================] - 26s 17ms/step - loss: 1.1286 - acc: 0.5987 - val_loss: 1.1977 - val_acc: 0.6055\n",
      "Epoch 4/200\n",
      "1563/1563 [==============================] - 26s 17ms/step - loss: 1.0121 - acc: 0.6452 - val_loss: 0.9440 - val_acc: 0.6673\n",
      "Epoch 5/200\n",
      "1563/1563 [==============================] - 26s 17ms/step - loss: 0.9127 - acc: 0.6850 - val_loss: 0.9555 - val_acc: 0.6930\n",
      "Epoch 6/200\n",
      "1563/1563 [==============================] - 26s 17ms/step - loss: 0.8582 - acc: 0.7042 - val_loss: 0.7019 - val_acc: 0.7565\n",
      "Epoch 7/200\n",
      "1563/1563 [==============================] - 26s 17ms/step - loss: 0.8066 - acc: 0.7226 - val_loss: 0.8306 - val_acc: 0.7222\n",
      "Epoch 8/200\n",
      "1563/1563 [==============================] - 26s 17ms/step - loss: 0.7531 - acc: 0.7378 - val_loss: 0.7662 - val_acc: 0.7514\n",
      "Epoch 9/200\n",
      "1563/1563 [==============================] - 26s 17ms/step - loss: 0.7272 - acc: 0.7500 - val_loss: 0.7054 - val_acc: 0.7695\n",
      "Epoch 10/200\n",
      "1563/1563 [==============================] - 26s 17ms/step - loss: 0.6906 - acc: 0.7610 - val_loss: 0.6407 - val_acc: 0.7861\n",
      "Epoch 11/200\n",
      "1563/1563 [==============================] - 27s 17ms/step - loss: 0.6689 - acc: 0.7690 - val_loss: 0.7047 - val_acc: 0.7703\n",
      "Epoch 12/200\n",
      "1563/1563 [==============================] - 26s 17ms/step - loss: 0.6431 - acc: 0.7805 - val_loss: 0.6776 - val_acc: 0.7764\n",
      "Epoch 13/200\n",
      "1563/1563 [==============================] - 26s 17ms/step - loss: 0.6234 - acc: 0.7850 - val_loss: 0.5813 - val_acc: 0.8141\n",
      "Epoch 14/200\n",
      "1563/1563 [==============================] - 26s 17ms/step - loss: 0.6049 - acc: 0.7912 - val_loss: 0.5931 - val_acc: 0.8029\n",
      "Epoch 15/200\n",
      "1563/1563 [==============================] - 27s 17ms/step - loss: 0.5884 - acc: 0.7980 - val_loss: 0.6031 - val_acc: 0.7971\n",
      "Epoch 16/200\n",
      "1563/1563 [==============================] - 27s 17ms/step - loss: 0.5714 - acc: 0.8040 - val_loss: 0.5498 - val_acc: 0.8171\n",
      "Epoch 17/200\n",
      "1563/1563 [==============================] - 27s 18ms/step - loss: 0.5555 - acc: 0.8091 - val_loss: 0.5639 - val_acc: 0.8115\n",
      "Epoch 18/200\n",
      "1563/1563 [==============================] - 26s 17ms/step - loss: 0.5394 - acc: 0.8142 - val_loss: 0.6517 - val_acc: 0.7910\n",
      "Epoch 19/200\n",
      "1563/1563 [==============================] - 26s 17ms/step - loss: 0.5278 - acc: 0.8185 - val_loss: 0.5637 - val_acc: 0.8084\n",
      "Epoch 20/200\n",
      "1563/1563 [==============================] - 26s 17ms/step - loss: 0.5159 - acc: 0.8226 - val_loss: 0.5999 - val_acc: 0.8072\n",
      "Epoch 21/200\n",
      "1563/1563 [==============================] - 26s 17ms/step - loss: 0.5058 - acc: 0.8275 - val_loss: 0.5415 - val_acc: 0.8240\n",
      "Epoch 22/200\n",
      "1563/1563 [==============================] - 26s 17ms/step - loss: 0.4959 - acc: 0.8299 - val_loss: 0.5973 - val_acc: 0.8086\n",
      "Epoch 23/200\n",
      "1563/1563 [==============================] - 26s 17ms/step - loss: 0.4892 - acc: 0.8331 - val_loss: 0.5691 - val_acc: 0.8157\n",
      "Epoch 24/200\n",
      "1563/1563 [==============================] - 27s 17ms/step - loss: 0.4735 - acc: 0.8361 - val_loss: 0.6314 - val_acc: 0.8040\n",
      "Epoch 25/200\n",
      "1563/1563 [==============================] - 27s 18ms/step - loss: 0.4624 - acc: 0.8415 - val_loss: 0.5248 - val_acc: 0.8341\n",
      "Epoch 26/200\n",
      "1563/1563 [==============================] - 27s 17ms/step - loss: 0.4522 - acc: 0.8458 - val_loss: 0.6470 - val_acc: 0.8001\n",
      "Epoch 27/200\n",
      "1563/1563 [==============================] - 27s 17ms/step - loss: 0.4500 - acc: 0.8453 - val_loss: 0.5617 - val_acc: 0.8171\n",
      "Epoch 28/200\n",
      "1563/1563 [==============================] - 27s 17ms/step - loss: 0.4418 - acc: 0.8481 - val_loss: 0.5318 - val_acc: 0.8306\n",
      "Epoch 29/200\n",
      "1563/1563 [==============================] - 27s 17ms/step - loss: 0.4375 - acc: 0.8513 - val_loss: 0.5809 - val_acc: 0.8171\n",
      "Epoch 30/200\n",
      "1563/1563 [==============================] - 27s 18ms/step - loss: 0.4304 - acc: 0.8535 - val_loss: 0.5323 - val_acc: 0.8361\n",
      "Epoch 31/200\n",
      "1563/1563 [==============================] - 27s 17ms/step - loss: 0.4128 - acc: 0.8563 - val_loss: 0.5184 - val_acc: 0.8346\n",
      "Epoch 32/200\n",
      "1563/1563 [==============================] - 27s 17ms/step - loss: 0.4086 - acc: 0.8588 - val_loss: 0.5169 - val_acc: 0.8361\n",
      "Epoch 33/200\n",
      "1563/1563 [==============================] - 27s 17ms/step - loss: 0.4128 - acc: 0.8576 - val_loss: 0.5827 - val_acc: 0.8234\n",
      "Epoch 34/200\n",
      "1563/1563 [==============================] - 27s 17ms/step - loss: 0.4006 - acc: 0.8652 - val_loss: 0.6296 - val_acc: 0.8121\n",
      "Epoch 35/200\n",
      "1563/1563 [==============================] - 27s 17ms/step - loss: 0.3967 - acc: 0.8622 - val_loss: 0.5464 - val_acc: 0.8319\n",
      "Epoch 36/200\n",
      "1563/1563 [==============================] - 27s 17ms/step - loss: 0.3884 - acc: 0.8669 - val_loss: 0.4766 - val_acc: 0.8446\n",
      "Epoch 37/200\n",
      "1563/1563 [==============================] - 27s 17ms/step - loss: 0.3839 - acc: 0.8663 - val_loss: 0.5189 - val_acc: 0.8398\n",
      "Epoch 38/200\n",
      "1563/1563 [==============================] - 27s 18ms/step - loss: 0.3778 - acc: 0.8694 - val_loss: 0.5521 - val_acc: 0.8304\n",
      "Epoch 39/200\n",
      "1563/1563 [==============================] - 27s 17ms/step - loss: 0.3749 - acc: 0.8715 - val_loss: 0.6079 - val_acc: 0.8194\n",
      "Epoch 40/200\n",
      "1563/1563 [==============================] - 27s 17ms/step - loss: 0.3651 - acc: 0.8747 - val_loss: 0.5270 - val_acc: 0.8380\n",
      "Epoch 41/200\n",
      "1563/1563 [==============================] - 26s 17ms/step - loss: 0.3654 - acc: 0.8749 - val_loss: 0.5619 - val_acc: 0.8311\n",
      "Epoch 42/200\n",
      "1563/1563 [==============================] - 26s 17ms/step - loss: 0.3591 - acc: 0.8758 - val_loss: 0.4758 - val_acc: 0.8535\n",
      "Epoch 43/200\n",
      "1563/1563 [==============================] - 27s 17ms/step - loss: 0.3537 - acc: 0.8767 - val_loss: 0.5573 - val_acc: 0.8387\n",
      "Epoch 44/200\n",
      "1563/1563 [==============================] - 27s 17ms/step - loss: 0.3465 - acc: 0.8810 - val_loss: 0.7100 - val_acc: 0.8082\n",
      "Epoch 45/200\n",
      "1563/1563 [==============================] - 27s 17ms/step - loss: 0.3486 - acc: 0.8811 - val_loss: 0.4907 - val_acc: 0.8544\n",
      "Epoch 46/200\n",
      "1563/1563 [==============================] - 26s 17ms/step - loss: 0.3408 - acc: 0.8824 - val_loss: 0.6496 - val_acc: 0.8213\n",
      "Epoch 47/200\n",
      "1563/1563 [==============================] - 27s 17ms/step - loss: 0.3375 - acc: 0.8827 - val_loss: 0.5624 - val_acc: 0.8326\n",
      "Epoch 48/200\n",
      "1563/1563 [==============================] - 26s 17ms/step - loss: 0.3372 - acc: 0.8841 - val_loss: 0.5346 - val_acc: 0.8381\n",
      "Epoch 49/200\n",
      "1563/1563 [==============================] - 26s 17ms/step - loss: 0.3296 - acc: 0.8860 - val_loss: 0.5509 - val_acc: 0.8350\n",
      "Epoch 50/200\n",
      "1563/1563 [==============================] - 26s 17ms/step - loss: 0.3269 - acc: 0.8893 - val_loss: 0.5998 - val_acc: 0.8344\n",
      "Epoch 51/200\n",
      "1563/1563 [==============================] - 26s 17ms/step - loss: 0.3330 - acc: 0.8857 - val_loss: 0.6201 - val_acc: 0.8287\n",
      "Epoch 52/200\n",
      "1563/1563 [==============================] - 27s 17ms/step - loss: 0.3166 - acc: 0.8902 - val_loss: 0.6587 - val_acc: 0.8269\n",
      "Epoch 53/200\n",
      "1563/1563 [==============================] - 27s 17ms/step - loss: 0.3108 - acc: 0.8923 - val_loss: 0.5113 - val_acc: 0.8465\n",
      "Epoch 54/200\n",
      "1563/1563 [==============================] - 26s 17ms/step - loss: 0.3147 - acc: 0.8924 - val_loss: 0.5826 - val_acc: 0.8357\n",
      "Epoch 55/200\n",
      "1563/1563 [==============================] - 26s 17ms/step - loss: 0.3073 - acc: 0.8944 - val_loss: 0.5011 - val_acc: 0.8525\n",
      "Epoch 56/200\n",
      "1563/1563 [==============================] - 27s 17ms/step - loss: 0.3062 - acc: 0.8953 - val_loss: 0.4825 - val_acc: 0.8595\n",
      "Epoch 57/200\n",
      "1563/1563 [==============================] - 27s 18ms/step - loss: 0.3013 - acc: 0.8961 - val_loss: 0.5385 - val_acc: 0.8435\n",
      "Epoch 58/200\n",
      "1563/1563 [==============================] - 27s 17ms/step - loss: 0.3014 - acc: 0.8968 - val_loss: 0.5828 - val_acc: 0.8430\n",
      "Epoch 59/200\n",
      "1563/1563 [==============================] - 27s 17ms/step - loss: 0.2987 - acc: 0.8976 - val_loss: 0.4873 - val_acc: 0.8548\n",
      "Epoch 60/200\n"
     ]
    },
    {
     "name": "stdout",
     "output_type": "stream",
     "text": [
      "1563/1563 [==============================] - 27s 17ms/step - loss: 0.2986 - acc: 0.8969 - val_loss: 0.5472 - val_acc: 0.8520\n",
      "Epoch 61/200\n",
      "1563/1563 [==============================] - 27s 17ms/step - loss: 0.2922 - acc: 0.8992 - val_loss: 0.5421 - val_acc: 0.8502\n",
      "Epoch 62/200\n",
      "1563/1563 [==============================] - 27s 17ms/step - loss: 0.2866 - acc: 0.9018 - val_loss: 0.5197 - val_acc: 0.8489\n",
      "Epoch 63/200\n",
      "1563/1563 [==============================] - 27s 17ms/step - loss: 0.2853 - acc: 0.9021 - val_loss: 0.4926 - val_acc: 0.8587\n",
      "Epoch 64/200\n",
      "1563/1563 [==============================] - 27s 17ms/step - loss: 0.2795 - acc: 0.9039 - val_loss: 0.6234 - val_acc: 0.8388\n",
      "Epoch 65/200\n",
      "1563/1563 [==============================] - 27s 17ms/step - loss: 0.2812 - acc: 0.9027 - val_loss: 0.5313 - val_acc: 0.8465\n",
      "Epoch 66/200\n",
      "1563/1563 [==============================] - 27s 17ms/step - loss: 0.2791 - acc: 0.9039 - val_loss: 0.5041 - val_acc: 0.8592\n",
      "Epoch 67/200\n",
      "1563/1563 [==============================] - 27s 17ms/step - loss: 0.2777 - acc: 0.9040 - val_loss: 0.4793 - val_acc: 0.8600\n",
      "Epoch 68/200\n",
      "1563/1563 [==============================] - 27s 17ms/step - loss: 0.2744 - acc: 0.9057 - val_loss: 0.5396 - val_acc: 0.8464\n",
      "Epoch 69/200\n",
      "1563/1563 [==============================] - 27s 17ms/step - loss: 0.2724 - acc: 0.9050 - val_loss: 0.5044 - val_acc: 0.8542\n",
      "Epoch 70/200\n",
      "1563/1563 [==============================] - 27s 17ms/step - loss: 0.2705 - acc: 0.9066 - val_loss: 0.5517 - val_acc: 0.8582\n",
      "Epoch 71/200\n",
      "1563/1563 [==============================] - 29s 18ms/step - loss: 0.2626 - acc: 0.9107 - val_loss: 0.5073 - val_acc: 0.8573\n",
      "Epoch 72/200\n",
      "1563/1563 [==============================] - 27s 18ms/step - loss: 0.2655 - acc: 0.9098 - val_loss: 0.6300 - val_acc: 0.8370\n",
      "Epoch 73/200\n",
      "1563/1563 [==============================] - 29s 18ms/step - loss: 0.2636 - acc: 0.9093 - val_loss: 0.4981 - val_acc: 0.8572\n",
      "Epoch 74/200\n",
      "1563/1563 [==============================] - 27s 18ms/step - loss: 0.2618 - acc: 0.9101 - val_loss: 0.6062 - val_acc: 0.8397\n",
      "Epoch 75/200\n",
      "1563/1563 [==============================] - 27s 17ms/step - loss: 0.2608 - acc: 0.9099 - val_loss: 0.5491 - val_acc: 0.8566\n",
      "Epoch 76/200\n",
      "1563/1563 [==============================] - 26s 17ms/step - loss: 0.2594 - acc: 0.9116 - val_loss: 0.6356 - val_acc: 0.8340\n",
      "Epoch 77/200\n",
      "1563/1563 [==============================] - 26s 17ms/step - loss: 0.2584 - acc: 0.9104 - val_loss: 0.5317 - val_acc: 0.8548\n",
      "Epoch 78/200\n",
      "1563/1563 [==============================] - 26s 17ms/step - loss: 0.2601 - acc: 0.9108 - val_loss: 0.6083 - val_acc: 0.8393\n",
      "Epoch 79/200\n",
      "1563/1563 [==============================] - 26s 17ms/step - loss: 0.2460 - acc: 0.9153 - val_loss: 0.5581 - val_acc: 0.8518\n",
      "Epoch 80/200\n",
      "1563/1563 [==============================] - 26s 17ms/step - loss: 0.2466 - acc: 0.9150 - val_loss: 0.5584 - val_acc: 0.8531\n",
      "Epoch 81/200\n",
      "1563/1563 [==============================] - 26s 17ms/step - loss: 0.2405 - acc: 0.9175 - val_loss: 0.6183 - val_acc: 0.8450\n",
      "Epoch 82/200\n",
      "1563/1563 [==============================] - 27s 17ms/step - loss: 0.2437 - acc: 0.9158 - val_loss: 0.6109 - val_acc: 0.8473\n",
      "Epoch 83/200\n",
      "1563/1563 [==============================] - 27s 17ms/step - loss: 0.2425 - acc: 0.9160 - val_loss: 0.5408 - val_acc: 0.8586\n",
      "Epoch 84/200\n",
      "1563/1563 [==============================] - 26s 17ms/step - loss: 0.2419 - acc: 0.9168 - val_loss: 0.5771 - val_acc: 0.8419\n",
      "Epoch 85/200\n",
      "1563/1563 [==============================] - 26s 17ms/step - loss: 0.2397 - acc: 0.9180 - val_loss: 0.5504 - val_acc: 0.8536\n",
      "Epoch 86/200\n",
      "1563/1563 [==============================] - 26s 17ms/step - loss: 0.2338 - acc: 0.9190 - val_loss: 0.6803 - val_acc: 0.8390\n",
      "Epoch 87/200\n",
      "1563/1563 [==============================] - 26s 17ms/step - loss: 0.2412 - acc: 0.9176 - val_loss: 0.5504 - val_acc: 0.8549\n",
      "Epoch 88/200\n",
      "1563/1563 [==============================] - 26s 17ms/step - loss: 0.2336 - acc: 0.9201 - val_loss: 0.7315 - val_acc: 0.8312\n",
      "Epoch 89/200\n",
      "1563/1563 [==============================] - 26s 17ms/step - loss: 0.2327 - acc: 0.9198 - val_loss: 0.5395 - val_acc: 0.8581\n",
      "Epoch 90/200\n",
      "1563/1563 [==============================] - 26s 17ms/step - loss: 0.2317 - acc: 0.9213 - val_loss: 0.5868 - val_acc: 0.8534\n",
      "Epoch 91/200\n",
      "1563/1563 [==============================] - 26s 17ms/step - loss: 0.2322 - acc: 0.9193 - val_loss: 0.6809 - val_acc: 0.8339\n",
      "Epoch 92/200\n",
      "1563/1563 [==============================] - 27s 17ms/step - loss: 0.2303 - acc: 0.9202 - val_loss: 0.5517 - val_acc: 0.8617\n",
      "Epoch 93/200\n",
      "1563/1563 [==============================] - 27s 17ms/step - loss: 0.2286 - acc: 0.9212 - val_loss: 0.5568 - val_acc: 0.8580\n",
      "Epoch 94/200\n",
      "1563/1563 [==============================] - 27s 17ms/step - loss: 0.2278 - acc: 0.9223 - val_loss: 0.5051 - val_acc: 0.8629\n",
      "Epoch 95/200\n",
      "1563/1563 [==============================] - 27s 17ms/step - loss: 0.2243 - acc: 0.9235 - val_loss: 0.4991 - val_acc: 0.8694\n",
      "Epoch 96/200\n",
      "1563/1563 [==============================] - 27s 17ms/step - loss: 0.2207 - acc: 0.9240 - val_loss: 0.5192 - val_acc: 0.8662\n",
      "Epoch 97/200\n",
      "1563/1563 [==============================] - 27s 17ms/step - loss: 0.2150 - acc: 0.9255 - val_loss: 0.5961 - val_acc: 0.8523\n",
      "Epoch 98/200\n",
      "1563/1563 [==============================] - 27s 17ms/step - loss: 0.2161 - acc: 0.9259 - val_loss: 0.6143 - val_acc: 0.8474\n",
      "Epoch 99/200\n",
      "1563/1563 [==============================] - 27s 17ms/step - loss: 0.2182 - acc: 0.9246 - val_loss: 0.5815 - val_acc: 0.8534\n",
      "Epoch 100/200\n",
      "1563/1563 [==============================] - 27s 17ms/step - loss: 0.2220 - acc: 0.9237 - val_loss: 0.5351 - val_acc: 0.8651\n",
      "Epoch 101/200\n",
      "1563/1563 [==============================] - 27s 17ms/step - loss: 0.2159 - acc: 0.9265 - val_loss: 0.5888 - val_acc: 0.8463\n",
      "Epoch 102/200\n",
      "1563/1563 [==============================] - 27s 17ms/step - loss: 0.2195 - acc: 0.9246 - val_loss: 0.6027 - val_acc: 0.8488\n",
      "Epoch 103/200\n",
      "1563/1563 [==============================] - 27s 17ms/step - loss: 0.2113 - acc: 0.9273 - val_loss: 0.5337 - val_acc: 0.8599\n",
      "Epoch 104/200\n",
      "1563/1563 [==============================] - 27s 17ms/step - loss: 0.2110 - acc: 0.9275 - val_loss: 0.5602 - val_acc: 0.8558\n",
      "Epoch 105/200\n",
      "1563/1563 [==============================] - 27s 17ms/step - loss: 0.2083 - acc: 0.9282 - val_loss: 0.5916 - val_acc: 0.8549\n",
      "Epoch 106/200\n",
      "1563/1563 [==============================] - 27s 17ms/step - loss: 0.2078 - acc: 0.9296 - val_loss: 0.5398 - val_acc: 0.8606\n",
      "Epoch 107/200\n",
      "1563/1563 [==============================] - 27s 17ms/step - loss: 0.2067 - acc: 0.9295 - val_loss: 0.5331 - val_acc: 0.8669\n",
      "Epoch 108/200\n",
      "1563/1563 [==============================] - 27s 17ms/step - loss: 0.2066 - acc: 0.9286 - val_loss: 0.5696 - val_acc: 0.8570\n",
      "Epoch 109/200\n",
      "1563/1563 [==============================] - 27s 17ms/step - loss: 0.2091 - acc: 0.9283 - val_loss: 0.5810 - val_acc: 0.8520\n",
      "Epoch 110/200\n",
      "1563/1563 [==============================] - 27s 17ms/step - loss: 0.2021 - acc: 0.9315 - val_loss: 0.5936 - val_acc: 0.8564\n",
      "Epoch 111/200\n",
      "1563/1563 [==============================] - 27s 17ms/step - loss: 0.2034 - acc: 0.9302 - val_loss: 0.5788 - val_acc: 0.8536\n",
      "Epoch 112/200\n",
      "1563/1563 [==============================] - 27s 17ms/step - loss: 0.2067 - acc: 0.9293 - val_loss: 0.6425 - val_acc: 0.8478\n",
      "Epoch 113/200\n",
      "1563/1563 [==============================] - 27s 17ms/step - loss: 0.1997 - acc: 0.9315 - val_loss: 0.5626 - val_acc: 0.8617\n",
      "Epoch 114/200\n",
      "1563/1563 [==============================] - 27s 17ms/step - loss: 0.2005 - acc: 0.9321 - val_loss: 0.5321 - val_acc: 0.8601\n",
      "Epoch 115/200\n",
      "1563/1563 [==============================] - 27s 17ms/step - loss: 0.2045 - acc: 0.9303 - val_loss: 0.5469 - val_acc: 0.8674\n",
      "Epoch 116/200\n",
      "1563/1563 [==============================] - 27s 17ms/step - loss: 0.1988 - acc: 0.9326 - val_loss: 0.5611 - val_acc: 0.8579\n",
      "Epoch 117/200\n",
      "1563/1563 [==============================] - 27s 17ms/step - loss: 0.1985 - acc: 0.9325 - val_loss: 0.6010 - val_acc: 0.8605\n",
      "Epoch 118/200\n",
      "1563/1563 [==============================] - 27s 17ms/step - loss: 0.1977 - acc: 0.9340 - val_loss: 0.6291 - val_acc: 0.8562\n",
      "Epoch 119/200\n"
     ]
    },
    {
     "name": "stdout",
     "output_type": "stream",
     "text": [
      "1563/1563 [==============================] - 27s 17ms/step - loss: 0.1996 - acc: 0.9341 - val_loss: 0.6036 - val_acc: 0.8594\n",
      "Epoch 120/200\n",
      "1563/1563 [==============================] - 27s 17ms/step - loss: 0.1928 - acc: 0.9335 - val_loss: 0.5616 - val_acc: 0.8621\n",
      "Epoch 121/200\n",
      "1563/1563 [==============================] - 27s 17ms/step - loss: 0.1931 - acc: 0.9339 - val_loss: 0.6207 - val_acc: 0.8547\n",
      "Epoch 122/200\n",
      "1563/1563 [==============================] - 27s 17ms/step - loss: 0.1883 - acc: 0.9351 - val_loss: 0.5987 - val_acc: 0.8570\n",
      "Epoch 123/200\n",
      "1563/1563 [==============================] - 27s 17ms/step - loss: 0.1885 - acc: 0.9345 - val_loss: 0.5181 - val_acc: 0.8659\n",
      "Epoch 124/200\n",
      "1563/1563 [==============================] - 27s 17ms/step - loss: 0.1904 - acc: 0.9346 - val_loss: 0.4974 - val_acc: 0.8737\n",
      "Epoch 125/200\n",
      "1563/1563 [==============================] - 27s 17ms/step - loss: 0.1855 - acc: 0.9358 - val_loss: 0.5520 - val_acc: 0.8698\n",
      "Epoch 126/200\n",
      "1563/1563 [==============================] - 27s 17ms/step - loss: 0.1872 - acc: 0.9363 - val_loss: 0.5657 - val_acc: 0.8625\n",
      "Epoch 127/200\n",
      "1563/1563 [==============================] - 27s 17ms/step - loss: 0.1896 - acc: 0.9360 - val_loss: 0.6126 - val_acc: 0.8558\n",
      "Epoch 128/200\n",
      "1563/1563 [==============================] - 27s 17ms/step - loss: 0.1896 - acc: 0.9350 - val_loss: 0.6152 - val_acc: 0.8543\n",
      "Epoch 129/200\n",
      "1563/1563 [==============================] - 27s 17ms/step - loss: 0.1885 - acc: 0.9352 - val_loss: 0.5340 - val_acc: 0.8627\n",
      "Epoch 130/200\n",
      "1563/1563 [==============================] - 27s 17ms/step - loss: 0.1850 - acc: 0.9382 - val_loss: 0.6054 - val_acc: 0.8574\n",
      "Epoch 131/200\n",
      "1563/1563 [==============================] - 27s 17ms/step - loss: 0.1822 - acc: 0.9386 - val_loss: 0.5989 - val_acc: 0.8616\n",
      "Epoch 132/200\n",
      "1563/1563 [==============================] - 27s 17ms/step - loss: 0.1848 - acc: 0.9374 - val_loss: 0.5592 - val_acc: 0.8658\n",
      "Epoch 133/200\n",
      "1563/1563 [==============================] - 27s 17ms/step - loss: 0.1865 - acc: 0.9358 - val_loss: 0.5881 - val_acc: 0.8637\n",
      "Epoch 134/200\n",
      "1563/1563 [==============================] - 27s 17ms/step - loss: 0.1779 - acc: 0.9386 - val_loss: 0.6492 - val_acc: 0.8589\n",
      "Epoch 135/200\n",
      "1563/1563 [==============================] - 27s 17ms/step - loss: 0.1813 - acc: 0.9391 - val_loss: 0.6821 - val_acc: 0.8497\n",
      "Epoch 136/200\n",
      "1563/1563 [==============================] - 27s 17ms/step - loss: 0.1797 - acc: 0.9393 - val_loss: 0.6162 - val_acc: 0.8563\n",
      "Epoch 137/200\n",
      "1563/1563 [==============================] - 27s 17ms/step - loss: 0.1806 - acc: 0.9398 - val_loss: 0.6471 - val_acc: 0.8564\n",
      "Epoch 138/200\n",
      "1563/1563 [==============================] - 27s 17ms/step - loss: 0.1781 - acc: 0.9390 - val_loss: 0.5705 - val_acc: 0.8622\n",
      "Epoch 139/200\n",
      "1563/1563 [==============================] - 27s 17ms/step - loss: 0.1823 - acc: 0.9385 - val_loss: 0.5635 - val_acc: 0.8618\n",
      "Epoch 140/200\n",
      "1563/1563 [==============================] - 27s 17ms/step - loss: 0.1692 - acc: 0.9412 - val_loss: 0.5926 - val_acc: 0.8583\n",
      "Epoch 141/200\n",
      "1563/1563 [==============================] - 27s 17ms/step - loss: 0.1760 - acc: 0.9400 - val_loss: 0.5693 - val_acc: 0.8619\n",
      "Epoch 142/200\n",
      "1563/1563 [==============================] - 27s 17ms/step - loss: 0.1750 - acc: 0.9396 - val_loss: 0.6230 - val_acc: 0.8596\n",
      "Epoch 143/200\n",
      "1563/1563 [==============================] - 27s 17ms/step - loss: 0.1764 - acc: 0.9401 - val_loss: 0.5559 - val_acc: 0.8658\n",
      "Epoch 144/200\n",
      "1563/1563 [==============================] - 27s 17ms/step - loss: 0.1734 - acc: 0.9415 - val_loss: 0.6159 - val_acc: 0.8533\n",
      "Epoch 145/200\n",
      "1563/1563 [==============================] - 27s 17ms/step - loss: 0.1711 - acc: 0.9420 - val_loss: 0.5682 - val_acc: 0.8648\n",
      "Epoch 146/200\n",
      "1563/1563 [==============================] - 27s 17ms/step - loss: 0.1766 - acc: 0.9409 - val_loss: 0.5689 - val_acc: 0.8668\n",
      "Epoch 147/200\n",
      "1563/1563 [==============================] - 27s 17ms/step - loss: 0.1754 - acc: 0.9407 - val_loss: 0.6516 - val_acc: 0.8597\n",
      "Epoch 148/200\n",
      "1563/1563 [==============================] - 27s 17ms/step - loss: 0.1659 - acc: 0.9441 - val_loss: 0.6450 - val_acc: 0.8542\n",
      "Epoch 149/200\n",
      "1563/1563 [==============================] - 27s 17ms/step - loss: 0.1724 - acc: 0.9411 - val_loss: 0.5788 - val_acc: 0.8639\n",
      "Epoch 150/200\n",
      "1563/1563 [==============================] - 27s 17ms/step - loss: 0.1743 - acc: 0.9399 - val_loss: 0.6977 - val_acc: 0.8539\n",
      "Epoch 151/200\n",
      "1563/1563 [==============================] - 27s 17ms/step - loss: 0.1702 - acc: 0.9430 - val_loss: 0.6253 - val_acc: 0.8592\n",
      "Epoch 152/200\n",
      "1563/1563 [==============================] - 27s 17ms/step - loss: 0.1661 - acc: 0.9439 - val_loss: 0.6117 - val_acc: 0.8660\n",
      "Epoch 153/200\n",
      "1563/1563 [==============================] - 27s 17ms/step - loss: 0.1673 - acc: 0.9434 - val_loss: 0.6010 - val_acc: 0.8657\n",
      "Epoch 154/200\n",
      "1563/1563 [==============================] - 27s 17ms/step - loss: 0.1664 - acc: 0.9448 - val_loss: 0.7221 - val_acc: 0.8498\n",
      "Epoch 155/200\n",
      "1563/1563 [==============================] - 27s 17ms/step - loss: 0.1685 - acc: 0.9437 - val_loss: 0.5828 - val_acc: 0.8654\n",
      "Epoch 156/200\n",
      "1563/1563 [==============================] - 27s 17ms/step - loss: 0.1617 - acc: 0.9457 - val_loss: 0.6493 - val_acc: 0.8595\n",
      "Epoch 157/200\n",
      "1563/1563 [==============================] - 27s 17ms/step - loss: 0.1650 - acc: 0.9444 - val_loss: 0.5851 - val_acc: 0.8600\n",
      "Epoch 158/200\n",
      "1563/1563 [==============================] - 27s 17ms/step - loss: 0.1680 - acc: 0.9423 - val_loss: 0.5586 - val_acc: 0.8640\n",
      "Epoch 159/200\n",
      "1563/1563 [==============================] - 27s 17ms/step - loss: 0.1662 - acc: 0.9437 - val_loss: 0.6346 - val_acc: 0.8566\n",
      "Epoch 160/200\n",
      "1563/1563 [==============================] - 27s 17ms/step - loss: 0.1586 - acc: 0.9468 - val_loss: 0.6482 - val_acc: 0.8578\n",
      "Epoch 161/200\n",
      "1563/1563 [==============================] - 27s 17ms/step - loss: 0.1614 - acc: 0.9451 - val_loss: 0.5788 - val_acc: 0.8663\n",
      "Epoch 162/200\n",
      "1563/1563 [==============================] - 27s 17ms/step - loss: 0.1676 - acc: 0.9440 - val_loss: 0.5335 - val_acc: 0.8669\n",
      "Epoch 163/200\n",
      "1563/1563 [==============================] - 27s 17ms/step - loss: 0.1586 - acc: 0.9459 - val_loss: 0.5384 - val_acc: 0.8728\n",
      "Epoch 164/200\n",
      "1563/1563 [==============================] - 27s 17ms/step - loss: 0.1662 - acc: 0.9444 - val_loss: 0.5653 - val_acc: 0.8688\n",
      "Epoch 165/200\n",
      "1563/1563 [==============================] - 27s 17ms/step - loss: 0.1590 - acc: 0.9457 - val_loss: 0.6269 - val_acc: 0.8682\n",
      "Epoch 166/200\n",
      "1563/1563 [==============================] - 27s 17ms/step - loss: 0.1588 - acc: 0.9457 - val_loss: 0.6630 - val_acc: 0.8588\n",
      "Epoch 167/200\n",
      "1563/1563 [==============================] - 27s 17ms/step - loss: 0.1608 - acc: 0.9448 - val_loss: 0.6296 - val_acc: 0.8611\n",
      "Epoch 168/200\n",
      "1563/1563 [==============================] - 27s 17ms/step - loss: 0.1603 - acc: 0.9461 - val_loss: 0.7161 - val_acc: 0.8556\n",
      "Epoch 169/200\n",
      "1563/1563 [==============================] - 27s 17ms/step - loss: 0.1606 - acc: 0.9455 - val_loss: 0.6681 - val_acc: 0.8574\n",
      "Epoch 170/200\n",
      "1563/1563 [==============================] - 27s 17ms/step - loss: 0.1550 - acc: 0.9470 - val_loss: 0.5749 - val_acc: 0.8670\n",
      "Epoch 171/200\n",
      "1563/1563 [==============================] - 27s 17ms/step - loss: 0.1597 - acc: 0.9457 - val_loss: 0.5939 - val_acc: 0.8681\n",
      "Epoch 172/200\n",
      "1563/1563 [==============================] - 27s 17ms/step - loss: 0.1524 - acc: 0.9477 - val_loss: 0.7973 - val_acc: 0.8488\n",
      "Epoch 173/200\n",
      "1563/1563 [==============================] - 27s 17ms/step - loss: 0.1565 - acc: 0.9466 - val_loss: 0.6578 - val_acc: 0.8606\n",
      "Epoch 174/200\n",
      "1563/1563 [==============================] - 27s 17ms/step - loss: 0.1545 - acc: 0.9475 - val_loss: 0.6468 - val_acc: 0.8635\n",
      "Epoch 175/200\n",
      "1563/1563 [==============================] - 27s 17ms/step - loss: 0.1564 - acc: 0.9468 - val_loss: 0.6106 - val_acc: 0.8618\n",
      "Epoch 176/200\n",
      "1563/1563 [==============================] - 27s 17ms/step - loss: 0.1561 - acc: 0.9470 - val_loss: 0.5860 - val_acc: 0.8690\n",
      "Epoch 177/200\n",
      "1563/1563 [==============================] - 27s 17ms/step - loss: 0.1609 - acc: 0.9449 - val_loss: 0.5834 - val_acc: 0.8643\n",
      "Epoch 178/200\n"
     ]
    },
    {
     "name": "stdout",
     "output_type": "stream",
     "text": [
      "1563/1563 [==============================] - 27s 17ms/step - loss: 0.1542 - acc: 0.9476 - val_loss: 0.6622 - val_acc: 0.8551\n",
      "Epoch 179/200\n",
      "1563/1563 [==============================] - 27s 17ms/step - loss: 0.1541 - acc: 0.9474 - val_loss: 0.6792 - val_acc: 0.8565\n",
      "Epoch 180/200\n",
      "1563/1563 [==============================] - 27s 17ms/step - loss: 0.1547 - acc: 0.9474 - val_loss: 0.6522 - val_acc: 0.8514\n",
      "Epoch 181/200\n",
      "1563/1563 [==============================] - 27s 17ms/step - loss: 0.1563 - acc: 0.9466 - val_loss: 0.6817 - val_acc: 0.8621\n",
      "Epoch 182/200\n",
      "1563/1563 [==============================] - 27s 17ms/step - loss: 0.1496 - acc: 0.9495 - val_loss: 0.5850 - val_acc: 0.8686\n",
      "Epoch 183/200\n",
      "1563/1563 [==============================] - 27s 17ms/step - loss: 0.1498 - acc: 0.9493 - val_loss: 0.6060 - val_acc: 0.8674\n",
      "Epoch 184/200\n",
      "1563/1563 [==============================] - 27s 17ms/step - loss: 0.1502 - acc: 0.9490 - val_loss: 0.5817 - val_acc: 0.8750\n",
      "Epoch 185/200\n",
      "1563/1563 [==============================] - 27s 17ms/step - loss: 0.1502 - acc: 0.9503 - val_loss: 0.6889 - val_acc: 0.8604\n",
      "Epoch 186/200\n",
      "1563/1563 [==============================] - 27s 17ms/step - loss: 0.1504 - acc: 0.9492 - val_loss: 0.6158 - val_acc: 0.8647\n",
      "Epoch 187/200\n",
      "1563/1563 [==============================] - 27s 17ms/step - loss: 0.1510 - acc: 0.9502 - val_loss: 0.5668 - val_acc: 0.8699\n",
      "Epoch 188/200\n",
      "1563/1563 [==============================] - 27s 17ms/step - loss: 0.1457 - acc: 0.9502 - val_loss: 0.6859 - val_acc: 0.8610\n",
      "Epoch 189/200\n",
      "1563/1563 [==============================] - 27s 17ms/step - loss: 0.1471 - acc: 0.9512 - val_loss: 0.7074 - val_acc: 0.8532\n",
      "Epoch 190/200\n",
      "1563/1563 [==============================] - 27s 17ms/step - loss: 0.1431 - acc: 0.9518 - val_loss: 0.7008 - val_acc: 0.8551\n",
      "Epoch 191/200\n",
      "1563/1563 [==============================] - 27s 17ms/step - loss: 0.1497 - acc: 0.9503 - val_loss: 0.6061 - val_acc: 0.8647\n",
      "Epoch 192/200\n",
      "1563/1563 [==============================] - 27s 17ms/step - loss: 0.1457 - acc: 0.9500 - val_loss: 0.6436 - val_acc: 0.8628\n",
      "Epoch 193/200\n",
      "1563/1563 [==============================] - 27s 17ms/step - loss: 0.1465 - acc: 0.9506 - val_loss: 0.5919 - val_acc: 0.8677\n",
      "Epoch 194/200\n",
      "1563/1563 [==============================] - 27s 17ms/step - loss: 0.1475 - acc: 0.9513 - val_loss: 0.6527 - val_acc: 0.8586\n",
      "Epoch 195/200\n",
      "1563/1563 [==============================] - 27s 17ms/step - loss: 0.1464 - acc: 0.9515 - val_loss: 0.7474 - val_acc: 0.8535\n",
      "Epoch 196/200\n",
      "1563/1563 [==============================] - 27s 17ms/step - loss: 0.1434 - acc: 0.9507 - val_loss: 0.6097 - val_acc: 0.8637\n",
      "Epoch 197/200\n",
      "1563/1563 [==============================] - 27s 17ms/step - loss: 0.1459 - acc: 0.9509 - val_loss: 0.7133 - val_acc: 0.8597\n",
      "Epoch 198/200\n",
      "1563/1563 [==============================] - 27s 17ms/step - loss: 0.1439 - acc: 0.9517 - val_loss: 0.6608 - val_acc: 0.8628\n",
      "Epoch 199/200\n",
      "1563/1563 [==============================] - 27s 17ms/step - loss: 0.1495 - acc: 0.9499 - val_loss: 0.6378 - val_acc: 0.8661\n",
      "Epoch 200/200\n",
      "1563/1563 [==============================] - 27s 17ms/step - loss: 0.1437 - acc: 0.9518 - val_loss: 0.6370 - val_acc: 0.8649\n"
     ]
    }
   ],
   "source": [
    "#Training data\n",
    "x = model.fit_generator(train_generator, epochs=200, \n",
    "                    validation_data=test_generator)"
   ]
  },
  {
   "cell_type": "markdown",
   "metadata": {},
   "source": [
    "Plotting loss and accuracy"
   ]
  },
  {
   "cell_type": "code",
   "execution_count": 13,
   "metadata": {},
   "outputs": [
    {
     "name": "stdout",
     "output_type": "stream",
     "text": [
      "dict_keys(['val_loss', 'val_acc', 'loss', 'acc'])\n"
     ]
    }
   ],
   "source": [
    "print(x.history.keys())"
   ]
  },
  {
   "cell_type": "code",
   "execution_count": 14,
   "metadata": {},
   "outputs": [
    {
     "data": {
      "image/png": "[encoded data removed]",
      "text/plain": [
       "<matplotlib.figure.Figure at 0x170c2f497b8>"
      ]
     },
     "metadata": {},
     "output_type": "display_data"
    },
    {
     "data": {
      "image/png": "[encoded data removed]",
      "text/plain": [
       "<matplotlib.figure.Figure at 0x170c2fc9e10>"
      ]
     },
     "metadata": {},
     "output_type": "display_data"
    }
   ],
   "source": [
    "plt.plot(x.history['acc'])\n",
    "plt.plot(x.history['val_acc'])\n",
    "plt.title('model accuracy')\n",
    "plt.ylabel('accuracy')\n",
    "plt.xlabel('epoch')\n",
    "plt.legend(['train', 'test'], loc='upper left')\n",
    "plt.show()\n",
    "plt.plot(x.history['loss'])\n",
    "plt.plot(x.history['val_loss'])\n",
    "plt.title('model loss')\n",
    "plt.ylabel('loss')\n",
    "plt.xlabel('epoch')\n",
    "plt.legend(['train', 'test'], loc='upper left')\n",
    "plt.show()"
   ]
  },
  {
   "cell_type": "code",
   "execution_count": null,
   "metadata": {
    "collapsed": true
   },
   "outputs": [],
   "source": [
    "score = model.evaluate(X_test, Y_test)\n",
    "print()\n",
    "print('Test loss: ', score[0])\n",
    "print('Test Accuracy', score[1])"
   ]
  },
  {
   "cell_type": "code",
   "execution_count": null,
   "metadata": {
    "collapsed": true
   },
   "outputs": [],
   "source": []
  }
 ],
 "metadata": {
  "kernelspec": {
   "display_name": "Python 3",
   "language": "python",
   "name": "python3"
  },
  "language_info": {
   "codemirror_mode": {
    "name": "ipython",
    "version": 3
   },
   "file_extension": ".py",
   "mimetype": "text/x-python",
   "name": "python",
   "nbconvert_exporter": "python",
   "pygments_lexer": "ipython3",
   "version": "3.6.3"
  }
 },
 "nbformat": 4,
 "nbformat_minor": 2
}
